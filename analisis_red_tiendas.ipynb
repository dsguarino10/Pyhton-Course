{
 "cells": [
  {
   "cell_type": "code",
   "execution_count": 17,
   "id": "245d4b7b",
   "metadata": {},
   "outputs": [],
   "source": [
    "import pandas as pd\n",
    "import numpy as np"
   ]
  },
  {
   "cell_type": "code",
   "execution_count": 18,
   "id": "7a160062",
   "metadata": {},
   "outputs": [
    {
     "name": "stdout",
     "output_type": "stream",
     "text": [
      "Ventas totales por tienda:\n",
      " ID_Tienda\n",
      "1    35\n",
      "2    55\n",
      "3    50\n",
      "4    60\n",
      "5    50\n",
      "Name: Cantidad_Vendida, dtype: int64\n",
      "\n",
      "Ventas totales por producto:\n",
      " Producto\n",
      "Producto A    85\n",
      "Producto B    75\n",
      "Producto C    90\n",
      "Name: Cantidad_Vendida, dtype: int64\n",
      "\n",
      "Ingresos totales por tienda:\n",
      " ID_Tienda\n",
      "1     5000\n",
      "2    10500\n",
      "3     9000\n",
      "4    13000\n",
      "5    13000\n",
      "Name: Ingreso, dtype: int64\n",
      "\n",
      "Resumen estadístico de las ventas:\n",
      "        ID_Tienda  Cantidad_Vendida  Precio_Unitario       Ingreso\n",
      "count  10.000000         10.000000        10.000000     10.000000\n",
      "mean    3.000000         25.000000       190.000000   5050.000000\n",
      "std     1.490712          9.128709        87.559504   3361.960407\n",
      "min     1.000000         10.000000       100.000000   1000.000000\n",
      "25%     2.000000         20.000000       100.000000   2625.000000\n",
      "50%     3.000000         25.000000       200.000000   3500.000000\n",
      "75%     4.000000         30.000000       275.000000   7875.000000\n",
      "max     5.000000         40.000000       300.000000  10500.000000\n",
      "\n",
      "Rotación de inventarios por tienda y producto:\n",
      "    ID_Tienda    Producto  Rotacion\n",
      "0          1  Producto A  0.400000\n",
      "1          1  Producto B  0.375000\n",
      "2          2  Producto A  0.500000\n",
      "3          2  Producto C  0.555556\n",
      "4          3  Producto A  0.333333\n",
      "5          3  Producto B  0.500000\n",
      "6          4  Producto C  0.500000\n",
      "7          4  Producto A  0.500000\n",
      "8          5  Producto B  0.500000\n",
      "9          5  Producto C  0.500000\n",
      "\n",
      "Tiendas con inventario crítico:\n",
      " Empty DataFrame\n",
      "Columns: [ID_Tienda, Producto, Rotacion]\n",
      "Index: []\n",
      "\n",
      "Tiendas con baja satisfacción (<60%):\n",
      "    ID_Tienda  Satisfacción_Promedio Fecha_Evaluación\n",
      "4          5                     55       2023-01-15\n"
     ]
    },
    {
     "name": "stderr",
     "output_type": "stream",
     "text": [
      "C:\\Users\\dsguarino\\AppData\\Local\\Temp\\ipykernel_11320\\3963679236.py:31: FutureWarning: A value is trying to be set on a copy of a DataFrame or Series through chained assignment using an inplace method.\n",
      "The behavior will change in pandas 3.0. This inplace method will never work because the intermediate object on which we are setting values always behaves as a copy.\n",
      "\n",
      "For example, when doing 'df[col].method(value, inplace=True)', try using 'df.method({col: value}, inplace=True)' or df[col] = df[col].method(value) instead, to perform the operation inplace on the original object.\n",
      "\n",
      "\n",
      "  inventarios_rotacion['Cantidad_Vendida'].fillna(0, inplace=True)\n"
     ]
    }
   ],
   "source": [
    "sales = pd.read_csv('python_intermedio/sales.csv')\n",
    "inventories = pd.read_csv('python_intermedio/inventories.csv')\n",
    "satisfaction = pd.read_csv('python_intermedio/satisfaction.csv')\n",
    "\n",
    "\n",
    "sales.dropna(inplace=True)\n",
    "inventories.dropna(inplace=True)\n",
    "satisfaction.dropna(inplace=True)\n",
    "\n",
    "# Ventas totales por tienda\n",
    "ventas_por_tienda = sales.groupby('ID_Tienda')['Cantidad_Vendida'].sum()\n",
    "print(\"Ventas totales por tienda:\\n\", ventas_por_tienda)\n",
    "\n",
    "# Ventas totales por producto\n",
    "ventas_por_producto = sales.groupby('Producto')['Cantidad_Vendida'].sum()\n",
    "print(\"\\nVentas totales por producto:\\n\", ventas_por_producto)\n",
    "\n",
    "# Ingresos totales por tienda\n",
    "sales['Ingreso'] = sales['Cantidad_Vendida'] * sales['Precio_Unitario']\n",
    "ingresos_por_tienda = sales.groupby('ID_Tienda')['Ingreso'].sum()\n",
    "print(\"\\nIngresos totales por tienda:\\n\", ingresos_por_tienda)\n",
    "\n",
    "# Resumen estadístico de las ventas\n",
    "print(\"\\nResumen estadístico de las ventas:\\n\", sales.describe())\n",
    "\n",
    "# Calcular ventas por producto y tienda\n",
    "ventas_por_producto_tienda = sales.groupby(['ID_Tienda', 'Producto'])['Cantidad_Vendida'].sum().reset_index()\n",
    "\n",
    "# Unir con inventarios\n",
    "inventarios_rotacion = inventories.merge(ventas_por_producto_tienda, on=['ID_Tienda', 'Producto'], how='left')\n",
    "inventarios_rotacion['Cantidad_Vendida'].fillna(0, inplace=True)\n",
    "\n",
    "# Calcular rotación de inventario\n",
    "inventarios_rotacion['Rotacion'] = inventarios_rotacion['Cantidad_Vendida'] / inventarios_rotacion['Stock_Disponible']\n",
    "print(\"\\nRotación de inventarios por tienda y producto:\\n\", inventarios_rotacion[['ID_Tienda', 'Producto', 'Rotacion']])\n",
    "\n",
    "# Filtrar tiendas con inventario crítico (<10% de rotación)\n",
    "inventario_critico = inventarios_rotacion[inventarios_rotacion['Rotacion'] < 0.1]\n",
    "print(\"\\nTiendas con inventario crítico:\\n\", inventario_critico[['ID_Tienda', 'Producto', 'Rotacion']])\n",
    "\n",
    "# Filtrar tiendas con satisfacción < 60%\n",
    "satisfaccion_baja = satisfaction[satisfaction['Satisfacción_Promedio'] < 60]\n",
    "print(\"\\nTiendas con baja satisfacción (<60%):\\n\", satisfaccion_baja)"
   ]
  },
  {
   "cell_type": "code",
   "execution_count": 19,
   "id": "730dad7c",
   "metadata": {},
   "outputs": [
    {
     "name": "stdout",
     "output_type": "stream",
     "text": [
      "\n",
      "Mediana de ingresos por tienda: 10500.0\n",
      "Desviación estándar de ingresos por tienda: 2973.213749463701\n",
      "\n",
      "Proyecciones de ventas futuras (simuladas): [11576.83734929  9688.9106787  12025.71646685 14628.29330992\n",
      "  9403.81196679]\n"
     ]
    }
   ],
   "source": [
    "# Convertir ingresos a array de Numpy\n",
    "ventas_array = ingresos_por_tienda.to_numpy()\n",
    "\n",
    "# Calcular mediana\n",
    "mediana_ventas = np.median(ventas_array)\n",
    "print(\"\\nMediana de ingresos por tienda:\", mediana_ventas)\n",
    "\n",
    "# Calcular desviación estándar\n",
    "desviacion_ventas = np.std(ventas_array)\n",
    "print(\"Desviación estándar de ingresos por tienda:\", desviacion_ventas)\n",
    "\n",
    "# Simulación de proyecciones futuras\n",
    "np.random.seed(42)\n",
    "proyecciones = np.random.normal(loc=ventas_array.mean(), scale=ventas_array.std(), size=5)\n",
    "print(\"\\nProyecciones de ventas futuras (simuladas):\", proyecciones)\n"
   ]
  }
 ],
 "metadata": {
  "kernelspec": {
   "display_name": "Python 3",
   "language": "python",
   "name": "python3"
  },
  "language_info": {
   "codemirror_mode": {
    "name": "ipython",
    "version": 3
   },
   "file_extension": ".py",
   "mimetype": "text/x-python",
   "name": "python",
   "nbconvert_exporter": "python",
   "pygments_lexer": "ipython3",
   "version": "3.13.5"
  }
 },
 "nbformat": 4,
 "nbformat_minor": 5
}
