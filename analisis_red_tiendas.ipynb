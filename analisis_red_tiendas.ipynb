{
 "cells": [
  {
   "cell_type": "code",
   "execution_count": 20,
   "id": "245d4b7b",
   "metadata": {},
   "outputs": [],
   "source": [
    "import pandas as pd\n",
    "import numpy as np"
   ]
  },
  {
   "cell_type": "code",
   "execution_count": null,
   "id": "7a160062",
   "metadata": {},
   "outputs": [
    {
     "ename": "SyntaxError",
     "evalue": "(unicode error) 'unicodeescape' codec can't decode bytes in position 2-3: truncated \\UXXXXXXXX escape (3468255567.py, line 1)",
     "output_type": "error",
     "traceback": [
      "  \u001b[36mCell\u001b[39m\u001b[36m \u001b[39m\u001b[32mIn[21]\u001b[39m\u001b[32m, line 1\u001b[39m\n\u001b[31m    \u001b[39m\u001b[31msales = pd.read_csv('C:\\Users\\dsguarino\\Desktop\\Estudios\\Master\\Cursos previos\\Python\\Pyhton-Course\\python_intermedio/sales.csv')\u001b[39m\n                        ^\n\u001b[31mSyntaxError\u001b[39m\u001b[31m:\u001b[39m (unicode error) 'unicodeescape' codec can't decode bytes in position 2-3: truncated \\UXXXXXXXX escape\n"
     ]
    }
   ],
   "source": [
    "sales = pd.read_csv('C:/Users/dsguarino/Desktop/Estudios/Master/Cursos previos/Python/Pyhton-Course/python_intermedio/sales.csv')\n",
    "inventories = pd.read_csv('C:/Users/dsguarino/Desktop/Estudios/Master/Cursos previos/Python/Pyhton-Course/python_intermedio/inventories.csv')\n",
    "satisfaction = pd.read_csv('C:/Users/dsguarino/Desktop/Estudios/Master/Cursos previos/Python/Pyhton-Course/python_intermedio/satisfaction.csv')\n",
    "\n",
    "\n",
    "sales.dropna(inplace=True)\n",
    "inventories.dropna(inplace=True)\n",
    "satisfaction.dropna(inplace=True)\n",
    "\n",
    "# Ventas totales por tienda\n",
    "ventas_por_tienda = sales.groupby('ID_Tienda')['Cantidad_Vendida'].sum()\n",
    "print(\"Ventas totales por tienda:\\n\", ventas_por_tienda)\n",
    "\n",
    "# Ventas totales por producto\n",
    "ventas_por_producto = sales.groupby('Producto')['Cantidad_Vendida'].sum()\n",
    "print(\"\\nVentas totales por producto:\\n\", ventas_por_producto)\n",
    "\n",
    "# Ingresos totales por tienda\n",
    "sales['Ingreso'] = sales['Cantidad_Vendida'] * sales['Precio_Unitario']\n",
    "ingresos_por_tienda = sales.groupby('ID_Tienda')['Ingreso'].sum()\n",
    "print(\"\\nIngresos totales por tienda:\\n\", ingresos_por_tienda)\n",
    "\n",
    "# Resumen estadístico de las ventas\n",
    "print(\"\\nResumen estadístico de las ventas:\\n\", sales.describe())\n",
    "\n",
    "# Calcular ventas por producto y tienda\n",
    "ventas_por_producto_tienda = sales.groupby(['ID_Tienda', 'Producto'])['Cantidad_Vendida'].sum().reset_index()\n",
    "\n",
    "# Unir con inventarios\n",
    "inventarios_rotacion = inventories.merge(ventas_por_producto_tienda, on=['ID_Tienda', 'Producto'], how='left')\n",
    "inventarios_rotacion['Cantidad_Vendida'].fillna(0, inplace=True)\n",
    "\n",
    "# Calcular rotación de inventario\n",
    "inventarios_rotacion['Rotacion'] = inventarios_rotacion['Cantidad_Vendida'] / inventarios_rotacion['Stock_Disponible']\n",
    "print(\"\\nRotación de inventarios por tienda y producto:\\n\", inventarios_rotacion[['ID_Tienda', 'Producto', 'Rotacion']])\n",
    "\n",
    "# Filtrar tiendas con inventario crítico (<10% de rotación)\n",
    "inventario_critico = inventarios_rotacion[inventarios_rotacion['Rotacion'] < 0.1]\n",
    "print(\"\\nTiendas con inventario crítico:\\n\", inventario_critico[['ID_Tienda', 'Producto', 'Rotacion']])\n",
    "\n",
    "# Filtrar tiendas con satisfacción < 60%\n",
    "satisfaccion_baja = satisfaction[satisfaction['Satisfacción_Promedio'] < 60]\n",
    "print(\"\\nTiendas con baja satisfacción (<60%):\\n\", satisfaccion_baja)"
   ]
  },
  {
   "cell_type": "code",
   "execution_count": null,
   "id": "730dad7c",
   "metadata": {},
   "outputs": [
    {
     "name": "stdout",
     "output_type": "stream",
     "text": [
      "\n",
      "Mediana de ingresos por tienda: 10500.0\n",
      "Desviación estándar de ingresos por tienda: 2973.213749463701\n",
      "\n",
      "Proyecciones de ventas futuras (simuladas): [11576.83734929  9688.9106787  12025.71646685 14628.29330992\n",
      "  9403.81196679]\n"
     ]
    }
   ],
   "source": [
    "# Convertir ingresos a array de Numpy\n",
    "ventas_array = ingresos_por_tienda.to_numpy()\n",
    "\n",
    "# Calcular mediana\n",
    "mediana_ventas = np.median(ventas_array)\n",
    "print(\"\\nMediana de ingresos por tienda:\", mediana_ventas)\n",
    "\n",
    "# Calcular desviación estándar\n",
    "desviacion_ventas = np.std(ventas_array)\n",
    "print(\"Desviación estándar de ingresos por tienda:\", desviacion_ventas)\n",
    "\n",
    "# Simulación de proyecciones futuras\n",
    "np.random.seed(42)\n",
    "proyecciones = np.random.normal(loc=ventas_array.mean(), scale=ventas_array.std(), size=5)\n",
    "print(\"\\nProyecciones de ventas futuras (simuladas):\", proyecciones)\n"
   ]
  }
 ],
 "metadata": {
  "kernelspec": {
   "display_name": "Python 3",
   "language": "python",
   "name": "python3"
  },
  "language_info": {
   "codemirror_mode": {
    "name": "ipython",
    "version": 3
   },
   "file_extension": ".py",
   "mimetype": "text/x-python",
   "name": "python",
   "nbconvert_exporter": "python",
   "pygments_lexer": "ipython3",
   "version": "3.13.5"
  }
 },
 "nbformat": 4,
 "nbformat_minor": 5
}
